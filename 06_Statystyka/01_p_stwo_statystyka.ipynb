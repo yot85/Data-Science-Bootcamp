{
  "nbformat": 4,
  "nbformat_minor": 0,
  "metadata": {
    "colab": {
      "provenance": [],
      "authorship_tag": "ABX9TyN6nVPF3s/WAJwBa82NExaf",
      "include_colab_link": true
    },
    "kernelspec": {
      "name": "python3",
      "display_name": "Python 3"
    },
    "language_info": {
      "name": "python"
    }
  },
  "cells": [
    {
      "cell_type": "markdown",
      "metadata": {
        "id": "view-in-github",
        "colab_type": "text"
      },
      "source": [
        "<a href=\"https://colab.research.google.com/github/yot85/data-science-bootcamp/blob/main/06_Statystyka/01_p_stwo_statystyka.ipynb\" target=\"_parent\"><img src=\"https://colab.research.google.com/assets/colab-badge.svg\" alt=\"Open In Colab\"/></a>"
      ]
    },
    {
      "cell_type": "markdown",
      "source": [
        "Lekkie wprowadzenie"
      ],
      "metadata": {
        "id": "J8IsauOF0BMm"
      }
    },
    {
      "cell_type": "markdown",
      "source": [
        "Dane dyskretne"
      ],
      "metadata": {
        "id": "dZfb6I_a0ubv"
      }
    },
    {
      "cell_type": "code",
      "source": [
        "import numpy as np\n",
        "\n",
        "X = np.array([3, 4.5, 5, 4.5, 3])\n",
        "print(X)"
      ],
      "metadata": {
        "colab": {
          "base_uri": "https://localhost:8080/"
        },
        "id": "qx8swdwV0ESW",
        "outputId": "9414fa44-b374-41ab-9841-b3b7331b4da2"
      },
      "execution_count": 1,
      "outputs": [
        {
          "output_type": "stream",
          "name": "stdout",
          "text": [
            "[3.  4.5 5.  4.5 3. ]\n"
          ]
        }
      ]
    },
    {
      "cell_type": "markdown",
      "source": [
        "Dane ciągłe\n",
        "Populacja: grupa studentów\n",
        "Badna cecha X - wzrost studentów\n",
        "Realizacja zmiennej: 185.0, 179.5, 168.0, 192.0, 185.5"
      ],
      "metadata": {
        "id": "KQlR3qpW0xI5"
      }
    },
    {
      "cell_type": "code",
      "source": [
        "X = np.array([185.0, 179.5, 168.0, 192.0, 185.5])\n",
        "print(X)"
      ],
      "metadata": {
        "colab": {
          "base_uri": "https://localhost:8080/"
        },
        "id": "1tl2mhTt0QYx",
        "outputId": "c2e26f09-19ac-462f-91e5-ecef74df8663"
      },
      "execution_count": 3,
      "outputs": [
        {
          "output_type": "stream",
          "name": "stdout",
          "text": [
            "[185.  179.5 168.  192.  185.5]\n"
          ]
        }
      ]
    },
    {
      "cell_type": "code",
      "source": [],
      "metadata": {
        "id": "uHmhieHu1PLb"
      },
      "execution_count": null,
      "outputs": []
    }
  ]
}